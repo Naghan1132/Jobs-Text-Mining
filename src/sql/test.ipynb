{
 "cells": [
  {
   "cell_type": "code",
   "execution_count": 7,
   "id": "74a497b5-5ff8-4c31-9e34-fb470647edcd",
   "metadata": {},
   "outputs": [],
   "source": [
    "import sqlite3\n",
    "import pandas as pd\n",
    "from insert_functions import *\n",
    "from create_database import *\n",
    "\n",
    "df = pd.read_csv('apec.csv')"
   ]
  },
  {
   "cell_type": "code",
   "execution_count": null,
   "id": "4646d6b0-7590-40c7-8b4d-628d4cd54ac5",
   "metadata": {},
   "outputs": [],
   "source": [
    "# create database \n",
    "create_database()"
   ]
  },
  {
   "cell_type": "code",
   "execution_count": 5,
   "id": "66aef8cd-e011-4e8a-ba64-a215ffc0e7f9",
   "metadata": {},
   "outputs": [
    {
     "name": "stdout",
     "output_type": "stream",
     "text": [
      "H_department\n",
      "sqlite_sequence\n",
      "D_location\n",
      "D_salary\n",
      "H_type_job\n",
      "D_company\n",
      "D_source\n",
      "D_date\n",
      "D_competences\n",
      "H_language\n",
      "D_description\n",
      "F_title\n"
     ]
    }
   ],
   "source": [
    "# check \n",
    "conn = sqlite3.connect('jobs.db')\n",
    "cursor = conn.cursor()\n",
    "\n",
    "# get list of tables in the database\n",
    "cursor.execute(\"SELECT name FROM sqlite_master WHERE type='table';\")\n",
    "tables = cursor.fetchall()\n",
    "\n",
    "for table in tables:\n",
    "    print(table[0])\n",
    "\n",
    "# close connection\n",
    "conn.close()"
   ]
  },
  {
   "cell_type": "code",
   "execution_count": 3,
   "id": "4671426c-e258-4349-b157-012c19c273f6",
   "metadata": {},
   "outputs": [],
   "source": [
    "conn = sqlite3.connect('jobs.db')\n",
    "cursor = conn.cursor()\n",
    "\n",
    "insert_observations(df, cursor)\n",
    "\n",
    "conn.commit()\n",
    "conn.close()"
   ]
  },
  {
   "cell_type": "code",
   "execution_count": 10,
   "id": "d8ee7194-1779-40f7-b88c-8554ac8663ad",
   "metadata": {},
   "outputs": [
    {
     "name": "stdout",
     "output_type": "stream",
     "text": [
      "(1, '36 - 44 k€ brut annuel')\n",
      "(2, 'A négocier')\n",
      "(3, '38 - 60 k€ brut annuel')\n",
      "(4, 'A partir de 40 k€ brut annuel')\n",
      "(5, '55 - 60 k€ brut annuel')\n",
      "(6, '45 - 45 k€ brut annuel')\n",
      "(7, '40 - 65 k€ brut annuel')\n",
      "(8, '40 - 45 k€ brut annuel')\n",
      "(9, 'A partir de 35 k€ brut annuel')\n",
      "(10, '30 - 56 k€ brut annuel')\n",
      "(11, '28 - 32 k€ brut annuel')\n"
     ]
    }
   ],
   "source": [
    "# Check\n",
    "conn = sqlite3.connect('jobs.db')\n",
    "cursor = conn.cursor()\n",
    "\n",
    "cursor.execute(\"SELECT * FROM D_salary\")\n",
    "\n",
    "# Fetch all rows\n",
    "rows = cursor.fetchall()\n",
    "\n",
    "for row in rows:\n",
    "    print(row)\n",
    "\n",
    "# Close the connection\n",
    "conn.close()"
   ]
  },
  {
   "cell_type": "code",
   "execution_count": null,
   "id": "f7fbf867-a4c8-41b6-af53-c33ce6c700ff",
   "metadata": {},
   "outputs": [],
   "source": []
  }
 ],
 "metadata": {
  "kernelspec": {
   "display_name": "Python 3 (ipykernel)",
   "language": "python",
   "name": "python3"
  },
  "language_info": {
   "codemirror_mode": {
    "name": "ipython",
    "version": 3
   },
   "file_extension": ".py",
   "mimetype": "text/x-python",
   "name": "python",
   "nbconvert_exporter": "python",
   "pygments_lexer": "ipython3",
   "version": "3.10.9"
  }
 },
 "nbformat": 4,
 "nbformat_minor": 5
}
