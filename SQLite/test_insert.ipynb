{
 "cells": [
  {
   "cell_type": "code",
   "execution_count": 1,
   "metadata": {},
   "outputs": [],
   "source": [
    "import pandas as pd\n",
    "import os\n",
    "\n",
    "os.chdir('C:/Documents/COURS/M2/NLP/SQLite_doc')\n",
    "# Import data\n",
    "df = pd.read_csv('apec.csv')"
   ]
  },
  {
   "cell_type": "code",
   "execution_count": 2,
   "metadata": {},
   "outputs": [
    {
     "data": {
      "text/html": [
       "<div>\n",
       "<style scoped>\n",
       "    .dataframe tbody tr th:only-of-type {\n",
       "        vertical-align: middle;\n",
       "    }\n",
       "\n",
       "    .dataframe tbody tr th {\n",
       "        vertical-align: top;\n",
       "    }\n",
       "\n",
       "    .dataframe thead th {\n",
       "        text-align: right;\n",
       "    }\n",
       "</style>\n",
       "<table border=\"1\" class=\"dataframe\">\n",
       "  <thead>\n",
       "    <tr style=\"text-align: right;\">\n",
       "      <th></th>\n",
       "      <th>title</th>\n",
       "      <th>type_job</th>\n",
       "      <th>salary</th>\n",
       "      <th>compagny</th>\n",
       "      <th>location</th>\n",
       "      <th>description</th>\n",
       "      <th>source</th>\n",
       "    </tr>\n",
       "  </thead>\n",
       "  <tbody>\n",
       "    <tr>\n",
       "      <th>0</th>\n",
       "      <td>Data scientist</td>\n",
       "      <td>1  CDD  de 11 mois</td>\n",
       "      <td>A négocier</td>\n",
       "      <td>Levio</td>\n",
       "      <td>Luxembourg</td>\n",
       "      <td>La division « Database Administration &amp; Data M...</td>\n",
       "      <td>apec</td>\n",
       "    </tr>\n",
       "    <tr>\n",
       "      <th>1</th>\n",
       "      <td>Data scientist</td>\n",
       "      <td>1  CDI</td>\n",
       "      <td>40 - 80 k€ brut annuel</td>\n",
       "      <td>LUX-ADVISORY SARL</td>\n",
       "      <td>Luxembourg</td>\n",
       "      <td>La division « Database Administration &amp; Data M...</td>\n",
       "      <td>apec</td>\n",
       "    </tr>\n",
       "    <tr>\n",
       "      <th>2</th>\n",
       "      <td>Data scientist</td>\n",
       "      <td>1  CDI</td>\n",
       "      <td>30 - 56 k€ brut annuel</td>\n",
       "      <td>Kaisens data</td>\n",
       "      <td>Fontenay-sous-Bois - 94</td>\n",
       "      <td>En tant que Data Scientist, vos missions sont ...</td>\n",
       "      <td>apec</td>\n",
       "    </tr>\n",
       "    <tr>\n",
       "      <th>3</th>\n",
       "      <td>Data scientist</td>\n",
       "      <td>Meudon - 92</td>\n",
       "      <td>A négocier</td>\n",
       "      <td>1  CDI</td>\n",
       "      <td>NaN</td>\n",
       "      <td>Si pour vous faire grandir les relations humai...</td>\n",
       "      <td>apec</td>\n",
       "    </tr>\n",
       "    <tr>\n",
       "      <th>4</th>\n",
       "      <td>Data scientist</td>\n",
       "      <td>1  CDI</td>\n",
       "      <td>A partir de 50 k€ brut annuel</td>\n",
       "      <td>STORIGIN</td>\n",
       "      <td>Meudon - 92</td>\n",
       "      <td>Descriptif de mission :En tant que Data Analys...</td>\n",
       "      <td>apec</td>\n",
       "    </tr>\n",
       "  </tbody>\n",
       "</table>\n",
       "</div>"
      ],
      "text/plain": [
       "            title               type_job                         salary  \\\n",
       "0  Data scientist   1  CDD  de 11 mois                       A négocier   \n",
       "1  Data scientist               1  CDI           40 - 80 k€ brut annuel   \n",
       "2  Data scientist               1  CDI           30 - 56 k€ brut annuel   \n",
       "3  Data scientist            Meudon - 92                     A négocier   \n",
       "4  Data scientist               1  CDI    A partir de 50 k€ brut annuel   \n",
       "\n",
       "            compagny                 location  \\\n",
       "0              Levio               Luxembourg   \n",
       "1  LUX-ADVISORY SARL               Luxembourg   \n",
       "2       Kaisens data  Fontenay-sous-Bois - 94   \n",
       "3           1  CDI                        NaN   \n",
       "4           STORIGIN              Meudon - 92   \n",
       "\n",
       "                                         description source  \n",
       "0  La division « Database Administration & Data M...   apec  \n",
       "1  La division « Database Administration & Data M...   apec  \n",
       "2  En tant que Data Scientist, vos missions sont ...   apec  \n",
       "3  Si pour vous faire grandir les relations humai...   apec  \n",
       "4  Descriptif de mission :En tant que Data Analys...   apec  "
      ]
     },
     "execution_count": 2,
     "metadata": {},
     "output_type": "execute_result"
    }
   ],
   "source": [
    "df.head()"
   ]
  },
  {
   "cell_type": "code",
   "execution_count": 3,
   "metadata": {},
   "outputs": [],
   "source": [
    "from SQLite import data_base\n"
   ]
  },
  {
   "cell_type": "code",
   "execution_count": 8,
   "metadata": {},
   "outputs": [],
   "source": [
    "df2 = df[['compagny', 'type_job', 'salary']].drop_duplicates()"
   ]
  },
  {
   "cell_type": "code",
   "execution_count": 9,
   "metadata": {},
   "outputs": [],
   "source": [
    "bd = data_base()\n",
    "\n",
    "\n",
    "for i in list(df['salary'].unique()):\n",
    "    item = (i,)\n",
    "    bd.insert_salaire(item)\n",
    "\n",
    "for i in list(df['type_job'].unique()):\n",
    "    item = (i,)\n",
    "    bd.insert_type_job(item)\n",
    "\n",
    "for i in range(len(df2)):\n",
    "    val_type = df2['type_job'][i]\n",
    "    requete_type = f\"\"\"SELECT id_type_job FROM H_type_job WHERE type = '{val_type}'\"\"\"\n",
    "    res_type = bd.req(requete= requete_type)[0][0]\n",
    "    \n",
    "\n",
    "    val_salary = df2['salary'][i]\n",
    "    requete_salary = f\"\"\"SELECT id_salaire FROM H_salaire WHERE salaire = '{val_salary}'\"\"\"\n",
    "    res_salary = bd.req(requete=requete_salary)[0][0]\n",
    "    \n",
    "    res_compagny = df2['compagny'][i]\n",
    "\n",
    "    item = (res_type, res_salary,res_compagny)\n",
    "    bd.insert_entreprise(item)\n",
    "\n",
    "bd.commit_change()\n",
    "bd.close_connection()"
   ]
  }
 ],
 "metadata": {
  "kernelspec": {
   "display_name": "Python 3",
   "language": "python",
   "name": "python3"
  },
  "language_info": {
   "codemirror_mode": {
    "name": "ipython",
    "version": 3
   },
   "file_extension": ".py",
   "mimetype": "text/x-python",
   "name": "python",
   "nbconvert_exporter": "python",
   "pygments_lexer": "ipython3",
   "version": "3.12.0"
  }
 },
 "nbformat": 4,
 "nbformat_minor": 2
}
